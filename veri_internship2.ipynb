{
  "nbformat": 4,
  "nbformat_minor": 0,
  "metadata": {
    "colab": {
      "name": "veri_internship2.ipynb",
      "provenance": [],
      "collapsed_sections": [],
      "toc_visible": true
    },
    "kernelspec": {
      "name": "python3",
      "display_name": "Python 3"
    },
    "language_info": {
      "name": "python"
    }
  },
  "cells": [
    {
      "cell_type": "code",
      "execution_count": 70,
      "metadata": {
        "id": "sJD0H4xkUgjH"
      },
      "outputs": [],
      "source": [
        "%matplotlib inline\n",
        "\n",
        "import pandas as pd\n",
        "import numpy as np\n",
        "from matplotlib import pyplot as plt\n",
        "\n",
        "from typing import List"
      ]
    },
    {
      "cell_type": "code",
      "source": [
        "glucose1 = pd.read_csv('sample_data/glucose_data_1.csv', header=None)\n",
        "glucose2 = pd.read_csv('sample_data/glucose_data_2.csv', header=None)\n",
        "\n",
        "scores1 = np.array(pd.read_csv('sample_data/scores_1.csv', header=None)).T\n",
        "scores2 = np.array(pd.read_csv('sample_data/scores_2.csv', header=None)).T"
      ],
      "metadata": {
        "id": "tMNiuI4i5ffe"
      },
      "execution_count": 32,
      "outputs": []
    },
    {
      "cell_type": "code",
      "source": [
        "def absolute_error(array1: np.array, array2: np.array) -> int:\n",
        "  return np.sum(np.absolute(array1 - array2))\n",
        "\n",
        "def print_errors(score_algorithm, dataset1, dataset2, original1, original2):\n",
        "  print('For dataset 1:')\n",
        "  scores = np.array(score_algorithm(dataset1))\n",
        "  print('Abs. error: ' + str(absolute_error(scores, original1)))\n",
        "  print('Avg. abs. error: ' + str(absolute_error(scores, original1) / 100))\n",
        "\n",
        "  print('\\n')\n",
        "  print('For dataset 2:')\n",
        "  scores_2 = np.array(score_algorithm(dataset2))\n",
        "  print('Abs. error: ' + str(absolute_error(scores_2, original2)))\n",
        "  print('Avg. abs. error: ' + str(absolute_error(scores_2, original2) / 100))"
      ],
      "metadata": {
        "id": "HmJd3Bpg9GoZ"
      },
      "execution_count": 99,
      "outputs": []
    },
    {
      "cell_type": "markdown",
      "source": [
        "# Test 1: Product of relative changes\n",
        "\n",
        "As first prototype I propose this algorithm:\n",
        "\n",
        "1.   We will count the product of relative changes for each row (relative change is in range 0-1)\n",
        "2.   Final score will be the product cieled\n"
      ],
      "metadata": {
        "id": "TLvsqy2K6pOC"
      }
    },
    {
      "cell_type": "code",
      "source": [
        "def generate_scores_v1(dataset: pd.DataFrame) -> List[int]:\n",
        "  result: List[int] = []\n",
        "\n",
        "  for i, row in dataset.iterrows():\n",
        "    product: float = 1.0\n",
        "    for j in range(0,9):\n",
        "      if row[j] < row[j+1]:\n",
        "        product *= (row[j]/row[j+1])\n",
        "      else:\n",
        "        product *= (row[j+1]/row[j])\n",
        "\n",
        "    result.append(np.ceil(product * 10))\n",
        "  \n",
        "  return result\n",
        "\n",
        "print_errors(generate_scores_v1, glucose1, glucose2, scores1, scores2)"
      ],
      "metadata": {
        "colab": {
          "base_uri": "https://localhost:8080/"
        },
        "id": "9tRK3X-J7LRx",
        "outputId": "118f6984-9aef-4a4c-c6f3-be6ec16bf227"
      },
      "execution_count": 100,
      "outputs": [
        {
          "output_type": "stream",
          "name": "stdout",
          "text": [
            "For dataset 1:\n",
            "Abs. error: 201.0\n",
            "Avg. abs. error: 2.01\n",
            "\n",
            "\n",
            "For dataset 2:\n",
            "Abs. error: 188.0\n",
            "Avg. abs. error: 1.88\n"
          ]
        }
      ]
    },
    {
      "cell_type": "markdown",
      "source": [
        "# Test 2: Ratio between minimum and maximum\n",
        "\n",
        "In this algorithm, we compute the ratio between maximum and minimum. As in no dataset this ratio is lower than 0.5, we will normalize the result from range 0.5 to 1 to 0 to 1, and then again ceil the resulting value (times 10)"
      ],
      "metadata": {
        "id": "jNEK1Fpl--R8"
      }
    },
    {
      "cell_type": "code",
      "source": [
        "def generate_scores_v2(dataset: pd.DataFrame) -> List[int]:\n",
        "  result: List[int] = []\n",
        "\n",
        "  for i, row in dataset.iterrows():\n",
        "    ratio: float = np.min(row) / np.max(row)\n",
        "    result.append(np.ceil((ratio - 0.5) * 20))\n",
        "  \n",
        "  return result\n",
        "\n",
        "print_errors(generate_scores_v2, glucose1, glucose2, scores1, scores2)"
      ],
      "metadata": {
        "colab": {
          "base_uri": "https://localhost:8080/"
        },
        "id": "bGpK0EMRCXSH",
        "outputId": "4c0b1d74-b9ad-4d30-b504-39323bf6352e"
      },
      "execution_count": 101,
      "outputs": [
        {
          "output_type": "stream",
          "name": "stdout",
          "text": [
            "For dataset 1:\n",
            "Abs. error: 272.0\n",
            "Avg. abs. error: 2.72\n",
            "\n",
            "\n",
            "For dataset 2:\n",
            "Abs. error: 232.0\n",
            "Avg. abs. error: 2.32\n"
          ]
        }
      ]
    },
    {
      "cell_type": "markdown",
      "source": [
        "# Test 3: Let's try mean of twe two scores"
      ],
      "metadata": {
        "id": "W7s1kX-NED7H"
      }
    },
    {
      "cell_type": "code",
      "source": [
        "print('For dataset 1:')\n",
        "scores_v3_1 = np.ceil((np.array(generate_scores_v2(glucose1)) + np.array(generate_scores_v1(glucose1))) / 2)\n",
        "print('Abs. error: ' + str(absolute_error(np.array(scores_v3_1), scores1)))\n",
        "print('Avg. abs. error: ' + str(absolute_error(np.array(scores_v3_1), scores1) / 100))\n",
        "\n",
        "print('\\n')\n",
        "print('For dataset 2:')\n",
        "scores_v3_2 = np.ceil((np.array(generate_scores_v2(glucose2)) + np.array(generate_scores_v1(glucose2))) / 2)\n",
        "print('Abs. error: ' + str(absolute_error(np.array(scores_v3_2), scores2)))\n",
        "print('Avg. abs. error: ' + str(absolute_error(np.array(scores_v3_2), scores2) / 100))"
      ],
      "metadata": {
        "colab": {
          "base_uri": "https://localhost:8080/"
        },
        "id": "vG6VyfUpEJGe",
        "outputId": "0173721f-b104-4dfa-b1f9-30aab3e69441"
      },
      "execution_count": 102,
      "outputs": [
        {
          "output_type": "stream",
          "name": "stdout",
          "text": [
            "For dataset 1:\n",
            "Abs. error: 203.0\n",
            "Avg. abs. error: 2.03\n",
            "\n",
            "\n",
            "For dataset 2:\n",
            "Abs. error: 182.0\n",
            "Avg. abs. error: 1.82\n"
          ]
        }
      ]
    },
    {
      "cell_type": "markdown",
      "source": [
        "# Test 4: Stable 5 values and descending 5\n",
        "\n",
        "What I have seen in the datasets, is that when the record has high score, usually the glucose levels are stable at first, and then either start to decrease or keep stable as well. So we will split this into two parts and combine the score\n",
        "\n",
        "\n",
        "\n",
        "1.   We will count the standart deviation of first 5 items in the record, from that we will get score 0-5\n",
        "2.   We will count how many times the level of glucose has decreased in last 5 items, for each decrease +1 point"
      ],
      "metadata": {
        "id": "WWw6JpbAOpGA"
      }
    },
    {
      "cell_type": "code",
      "source": [
        "def generate_scores_v4(dataset: pd.DataFrame) -> List[int]:\n",
        "  result: List[int] = []\n",
        "\n",
        "  for i, row in dataset.iterrows():\n",
        "    score: int = 0\n",
        "    stddev: float = np.std(row[0:5])\n",
        "    score = 5 - min(np.floor(stddev * 5), 5)\n",
        "    for j in range(4,9):\n",
        "      if np.round(row[j],1) >= np.round(row[j+1],1): score += 1\n",
        "    \n",
        "    result.append(score)\n",
        "  \n",
        "  return result\n",
        "\n",
        "print_errors(generate_scores_v4, glucose1, glucose2, scores1, scores2)"
      ],
      "metadata": {
        "colab": {
          "base_uri": "https://localhost:8080/"
        },
        "id": "tjsxqBWhPoWl",
        "outputId": "6bba6d79-cdf9-466d-cb52-353cd5578e81"
      },
      "execution_count": 103,
      "outputs": [
        {
          "output_type": "stream",
          "name": "stdout",
          "text": [
            "For dataset 1:\n",
            "Abs. error: 118.0\n",
            "Avg. abs. error: 1.18\n",
            "\n",
            "\n",
            "For dataset 2:\n",
            "Abs. error: 173.0\n",
            "Avg. abs. error: 1.73\n"
          ]
        }
      ]
    },
    {
      "cell_type": "markdown",
      "source": [
        "# Test 5: Try to use some tolerance\n",
        "\n",
        "Now we will try to modify the algorithm from previous step, by adding the \"tolerance\" parameter, which will add the point in the second step even if there is a small difference."
      ],
      "metadata": {
        "id": "wN-WD9TsTuJj"
      }
    },
    {
      "cell_type": "code",
      "source": [
        "def generate_scores_v5(dataset: pd.DataFrame, tolerance: float) -> List[int]:\n",
        "  result: List[int] = []\n",
        "\n",
        "  for i, row in dataset.iterrows():\n",
        "    score: int = 0\n",
        "    stddev: float = np.std(row[0:5])\n",
        "    score = 5 - min(np.floor(stddev * 5), 5)\n",
        "    for j in range(4,9):\n",
        "      if np.round(row[j],1) >= np.round(row[j+1] - tolerance,1): score += 1\n",
        "    \n",
        "    result.append(score)\n",
        "  \n",
        "  return result\n",
        "\n",
        "x_axis = np.arange(0,1,0.1)\n",
        "y_axis1 = []\n",
        "y_axis2 = []\n",
        "\n",
        "for i in x_axis:\n",
        "  y_axis1.append( absolute_error(generate_scores_v5(glucose1, i), scores1) )\n",
        "  y_axis2.append( absolute_error(generate_scores_v5(glucose2, i), scores2) )\n",
        "\n",
        "\n",
        "plt.plot(x_axis, y_axis1)\n",
        "plt.title('Dataset 1')\n",
        "plt.xlabel('Tolerance')\n",
        "plt.ylabel('Absolute error')\n",
        "plt.show()\n",
        "\n",
        "plt.plot(x_axis, y_axis2)\n",
        "plt.title('Dataset 2')\n",
        "plt.xlabel('Tolerance')\n",
        "plt.ylabel('Absolute error')\n",
        "plt.show()"
      ],
      "metadata": {
        "colab": {
          "base_uri": "https://localhost:8080/",
          "height": 573
        },
        "id": "BicPv609UBsk",
        "outputId": "43bd3394-95f1-44fb-93f0-17e736854058"
      },
      "execution_count": 104,
      "outputs": [
        {
          "output_type": "display_data",
          "data": {
            "image/png": "[encoded data removed]",
            "text/plain": [
              "<Figure size 432x288 with 1 Axes>"
            ]
          },
          "metadata": {
            "needs_background": "light"
          }
        },
        {
          "output_type": "display_data",
          "data": {
            "image/png": "[encoded data removed]",
            "text/plain": [
              "<Figure size 432x288 with 1 Axes>"
            ]
          },
          "metadata": {
            "needs_background": "light"
          }
        }
      ]
    },
    {
      "cell_type": "markdown",
      "source": [
        "We can see here, that the lowest error is there when the tolerance is around 0.4. We can try it here, hard-coded in our v4 function."
      ],
      "metadata": {
        "id": "z3wlqC1DX1I4"
      }
    },
    {
      "cell_type": "code",
      "source": [
        "def generate_scores_v4_2(dataset: pd.DataFrame) -> List[int]:\n",
        "  result: List[int] = []\n",
        "\n",
        "  for i, row in dataset.iterrows():\n",
        "    score: int = 0\n",
        "    stddev: float = np.std(row[0:5])\n",
        "    score = 5 - min(np.floor(stddev * 5), 5)\n",
        "    for j in range(4,9):\n",
        "      if np.round(row[j],1) >= np.round(row[j+1] - 0.4,1): score += 1\n",
        "    result.append(score)\n",
        "  \n",
        "  return result\n",
        "\n",
        "print_errors(generate_scores_v4_2, glucose1, glucose2, scores1, scores2)"
      ],
      "metadata": {
        "colab": {
          "base_uri": "https://localhost:8080/"
        },
        "id": "UTikFfKXX_mk",
        "outputId": "5a0dac77-4db8-4978-a816-95f7a91ed80e"
      },
      "execution_count": 105,
      "outputs": [
        {
          "output_type": "stream",
          "name": "stdout",
          "text": [
            "For dataset 1:\n",
            "Abs. error: 68.0\n",
            "Avg. abs. error: 0.68\n",
            "\n",
            "\n",
            "For dataset 2:\n",
            "Abs. error: 83.0\n",
            "Avg. abs. error: 0.83\n"
          ]
        }
      ]
    },
    {
      "cell_type": "markdown",
      "source": [
        "But it may also indicate, that we are giving little amount of points in the first phase, opposed to how many we should be giving. Let's try to be more benevolent in the first phase, for example take the standard deviation as a minimum between standard deviation of first five values, and standard deviation between the same values without the first one. The goal is to reduce cases where the glucose goes up quickly (those cases also get greater amount of points)\n",
        "\n",
        "# Test 6: Try standard deviation without the first value\n",
        "\n",
        "We will try tolerance again after this"
      ],
      "metadata": {
        "id": "TALUZN_cZdw2"
      }
    },
    {
      "cell_type": "code",
      "source": [
        "def generate_scores_v6(dataset: pd.DataFrame) -> List[int]:\n",
        "  result: List[int] = []\n",
        "\n",
        "  for i, row in dataset.iterrows():\n",
        "    score: int = 0\n",
        "    stddev: float = min(np.std(row[0:5]), np.std(row[1:5]))\n",
        "    score = 5 - min(np.floor(stddev * 5), 5)\n",
        "    for j in range(4,9):\n",
        "      if np.round(row[j],1) >= np.round(row[j+1],1): score += 1\n",
        "    \n",
        "    result.append(score)\n",
        "  \n",
        "  return result\n",
        "\n",
        "print_errors(generate_scores_v6, glucose1, glucose2, scores1, scores2)"
      ],
      "metadata": {
        "colab": {
          "base_uri": "https://localhost:8080/"
        },
        "id": "KZ4S7muGaegx",
        "outputId": "230084e4-db8c-4ee5-a8b7-ca8f23904029"
      },
      "execution_count": 106,
      "outputs": [
        {
          "output_type": "stream",
          "name": "stdout",
          "text": [
            "For dataset 1:\n",
            "Abs. error: 105.0\n",
            "Avg. abs. error: 1.05\n",
            "\n",
            "\n",
            "For dataset 2:\n",
            "Abs. error: 156.0\n",
            "Avg. abs. error: 1.56\n"
          ]
        }
      ]
    },
    {
      "cell_type": "markdown",
      "source": [
        "Looks like we got better results, let's try to use tolerance again\n",
        "\n",
        "# Test 7: Using tolerance again"
      ],
      "metadata": {
        "id": "kqe4SlD2aypo"
      }
    },
    {
      "cell_type": "code",
      "source": [
        "def generate_scores_v7(dataset: pd.DataFrame, tolerance: float) -> List[int]:\n",
        "  result: List[int] = []\n",
        "\n",
        "  for i, row in dataset.iterrows():\n",
        "    score: int = 0\n",
        "    stddev: float = min(np.std(row[0:5]), np.std(row[1:5]))\n",
        "    score = 5 - min(np.floor(stddev * 5), 5)\n",
        "    for j in range(4,9):\n",
        "      if np.round(row[j],1) >= np.round(row[j+1] - tolerance,1): score += 1\n",
        "    \n",
        "    result.append(score)\n",
        "  \n",
        "  return result\n",
        "\n",
        "x_axis = np.arange(0,1,0.1)\n",
        "y_axis1 = []\n",
        "y_axis2 = []\n",
        "\n",
        "for i in x_axis:\n",
        "  y_axis1.append( absolute_error(generate_scores_v7(glucose1, i), scores1) )\n",
        "  y_axis2.append( absolute_error(generate_scores_v7(glucose2, i), scores2) )\n",
        "\n",
        "\n",
        "plt.plot(x_axis, y_axis1)\n",
        "plt.title('Dataset 1')\n",
        "plt.xlabel('Tolerance')\n",
        "plt.ylabel('Absolute error')\n",
        "plt.show()\n",
        "\n",
        "plt.plot(x_axis, y_axis2)\n",
        "plt.title('Dataset 2')\n",
        "plt.xlabel('Tolerance')\n",
        "plt.ylabel('Absolute error')\n",
        "plt.show()"
      ],
      "metadata": {
        "colab": {
          "base_uri": "https://localhost:8080/",
          "height": 573
        },
        "id": "f3uVKHlua8zX",
        "outputId": "ecf94b0b-2660-40cd-dfa9-da82e766f7cb"
      },
      "execution_count": 112,
      "outputs": [
        {
          "output_type": "display_data",
          "data": {
            "image/png": "[encoded data removed]",
            "text/plain": [
              "<Figure size 432x288 with 1 Axes>"
            ]
          },
          "metadata": {
            "needs_background": "light"
          }
        },
        {
          "output_type": "display_data",
          "data": {
            "image/png": "[encoded data removed]",
            "text/plain": [
              "<Figure size 432x288 with 1 Axes>"
            ]
          },
          "metadata": {
            "needs_background": "light"
          }
        }
      ]
    },
    {
      "cell_type": "markdown",
      "source": [
        "This looks more logical with the tolerance somewhere about 0.2 in the first dataset, from 0.2 it looks stable in the second one. Let's try it hard-coded"
      ],
      "metadata": {
        "id": "AMJPOGpubE5x"
      }
    },
    {
      "cell_type": "code",
      "source": [
        "def generate_scores_v6_2(dataset: pd.DataFrame) -> List[int]:\n",
        "  result: List[int] = []\n",
        "\n",
        "  for i, row in dataset.iterrows():\n",
        "    score: int = 0\n",
        "    stddev: float = min(np.std(row[0:5]), np.std(row[1:5]))\n",
        "    score = 5 - min(np.floor(stddev * 5), 5)\n",
        "    for j in range(4,9):\n",
        "      if np.round(row[j],1) >= np.round(row[j+1] - 0.2,1): score += 1\n",
        "    \n",
        "    result.append(score)\n",
        "  \n",
        "  return result\n",
        "\n",
        "print_errors(generate_scores_v6_2, glucose1, glucose2, scores1, scores2)"
      ],
      "metadata": {
        "colab": {
          "base_uri": "https://localhost:8080/"
        },
        "id": "8_lYMk8NbWXv",
        "outputId": "7bd82a0c-0698-40a7-9c3d-18699be162c6"
      },
      "execution_count": 113,
      "outputs": [
        {
          "output_type": "stream",
          "name": "stdout",
          "text": [
            "For dataset 1:\n",
            "Abs. error: 93.0\n",
            "Avg. abs. error: 0.93\n",
            "\n",
            "\n",
            "For dataset 2:\n",
            "Abs. error: 92.0\n",
            "Avg. abs. error: 0.92\n"
          ]
        }
      ]
    },
    {
      "cell_type": "markdown",
      "source": [
        "And also in both cases the absolute error is similar."
      ],
      "metadata": {
        "id": "MHfQCYddbdMv"
      }
    }
  ]
}